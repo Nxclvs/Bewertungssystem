{
 "cells": [
  {
   "cell_type": "markdown",
   "metadata": {},
   "source": [
    "Aufgabe 1: Schreibe ein Programm, was zwei Variablen enthält. Die Summe der beiden Variablen soll ausgegeben werden. Es sollen hierbei die Zahlen 10 und 15 summiert werden."
   ]
  },
  {
   "cell_type": "code",
   "execution_count": null,
   "metadata": {},
   "outputs": [],
   "source": [
    "###Aufgabe 1\n",
    "\n",
    "# Ihre Lösung hier\n",
    "zahl1 = 10\n",
    "zahl2 = 15\n",
    "\n",
    "print(\"Summe: \", zahl1 + zahl2)"
   ]
  },
  {
   "cell_type": "markdown",
   "metadata": {},
   "source": [
    "Aufgabe 2: Schreibe ein Programm, was zwei Variablen enthält, welche Strings enthalten. Die beiden Strings sollen zu einem zusammengefügt und ausgegeben werden. Die beiden Strings sollen \"Hello\" und \"World\" lauten."
   ]
  },
  {
   "cell_type": "code",
   "execution_count": null,
   "metadata": {},
   "outputs": [],
   "source": [
    "###Aufgabe 2\n",
    "\n",
    "# Ihre Lösung hier\n",
    "string1 = \"Hello\"\n",
    "string2 = \"World\"\n",
    "\n",
    "print(string1 + \" \" + string2)"
   ]
  }
 ],
 "metadata": {
  "language_info": {
   "name": "python"
  }
 },
 "nbformat": 4,
 "nbformat_minor": 2
}
