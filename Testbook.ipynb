{
 "cells": [
  {
   "cell_type": "code",
   "execution_count": null,
   "metadata": {},
   "outputs": [
    {
     "name": "stdout",
     "output_type": "stream",
     "text": [
      "Welche Programmiersprache wird hauptsächlich in Jupyter Notebooks verwendet?\n",
      "A) Java\n",
      "B) Python\n",
      "C) C++\n",
      "D) Ruby\n"
     ]
    }
   ],
   "source": [
    "# Frage und Auswahlmöglichkeiten\n",
    "print(\"Welche Programmiersprache wird hauptsächlich in Jupyter Notebooks verwendet?\")\n",
    "print(\"A) Java\")\n",
    "print(\"B) Python\")\n",
    "print(\"C) C++\")\n",
    "print(\"D) Ruby\")\n",
    "\n",
    "# Benutzerantwort erfassen\n",
    "antwort = input(\"Bitte geben Sie Ihre Antwort (A, B, C oder D) ein: \")\n",
    "\n",
    "# Antwort prüfen\n",
    "if antwort.upper() == \"B\":\n",
    "    print(\"Richtig! Python wird hauptsächlich verwendet.\")\n",
    "else:\n",
    "    print(\"Falsch. Die richtige Antwort ist B) Python.\")\n"
   ]
  }
 ],
 "metadata": {
  "kernelspec": {
   "display_name": "Python 3",
   "language": "python",
   "name": "python3"
  },
  "language_info": {
   "codemirror_mode": {
    "name": "ipython",
    "version": 3
   },
   "file_extension": ".py",
   "mimetype": "text/x-python",
   "name": "python",
   "nbconvert_exporter": "python",
   "pygments_lexer": "ipython3",
   "version": "3.12.4"
  }
 },
 "nbformat": 4,
 "nbformat_minor": 2
}
