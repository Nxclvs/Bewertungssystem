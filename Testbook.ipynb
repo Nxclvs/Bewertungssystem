{
 "cells": [
  {
   "cell_type": "code",
   "execution_count": 2,
   "metadata": {},
   "outputs": [
    {
     "data": {
      "application/vnd.jupyter.widget-view+json": {
       "model_id": "48368fe120f94291aacd9e5a761fda54",
       "version_major": 2,
       "version_minor": 0
      },
      "text/plain": [
       "Label(value='Welche Programmiersprache wird hauptsächlich in Jupyter Notebooks verwendet?')"
      ]
     },
     "metadata": {},
     "output_type": "display_data"
    },
    {
     "data": {
      "application/vnd.jupyter.widget-view+json": {
       "model_id": "4af4f77693c54c2abb4acdba1b07827c",
       "version_major": 2,
       "version_minor": 0
      },
      "text/plain": [
       "Dropdown(description='Antwort:', options=('Java', 'Python', 'C++', 'Ruby'), value='Java')"
      ]
     },
     "metadata": {},
     "output_type": "display_data"
    },
    {
     "data": {
      "application/vnd.jupyter.widget-view+json": {
       "model_id": "a83b1a698a294602af8509e725403623",
       "version_major": 2,
       "version_minor": 0
      },
      "text/plain": [
       "Button(description='Antwort prüfen', style=ButtonStyle())"
      ]
     },
     "metadata": {},
     "output_type": "display_data"
    },
    {
     "data": {
      "application/vnd.jupyter.widget-view+json": {
       "model_id": "a8330e0df51448dd93fdb4358dd50ec5",
       "version_major": 2,
       "version_minor": 0
      },
      "text/plain": [
       "Output()"
      ]
     },
     "metadata": {},
     "output_type": "display_data"
    }
   ],
   "source": [
    "import ipywidgets as widgets\n",
    "from IPython.display import display\n",
    "\n",
    "# Frage und Auswahlmöglichkeiten\n",
    "frage = \"Welche Programmiersprache wird hauptsächlich in Jupyter Notebooks verwendet?\"\n",
    "antworten = [\"Java\", \"Python\", \"C++\", \"Ruby\"]\n",
    "\n",
    "# Multiple-Choice-Widget erstellen\n",
    "dropdown = widgets.Dropdown(\n",
    "    options=antworten,\n",
    "    description='Antwort:',\n",
    ")\n",
    "\n",
    "button = widgets.Button(description=\"Antwort prüfen\")\n",
    "output = widgets.Output()\n",
    "\n",
    "# Funktion zur Überprüfung der Antwort\n",
    "def pruefen(b):\n",
    "    with output:\n",
    "        output.clear_output()\n",
    "        if dropdown.value == \"Python\":\n",
    "            print(\"Richtig! Python wird hauptsächlich verwendet.\")\n",
    "        else:\n",
    "            print(f\"Falsch. Die richtige Antwort ist Python. Ihre Antwort war: {dropdown.value}\")\n",
    "\n",
    "# Button mit Funktion verbinden\n",
    "button.on_click(pruefen)\n",
    "\n",
    "# Darstellung\n",
    "display(widgets.Label(value=frage))\n",
    "display(dropdown, button, output)"
   ]
  },
  {
   "cell_type": "code",
   "execution_count": 6,
   "metadata": {},
   "outputs": [
    {
     "name": "stdout",
     "output_type": "stream",
     "text": [
      "Welche Programmiersprache wird hauptsächlich in Jupyter Notebooks verwendet?\n",
      "A) Java\n",
      "B) Python\n",
      "C) C++\n",
      "D) Ruby\n",
      "Falsch. Die richtige Antwort ist B) Python.\n"
     ]
    }
   ],
   "source": [
    "# Frage und Auswahlmöglichkeiten\n",
    "print(\"Welche Programmiersprache wird hauptsächlich in Jupyter Notebooks verwendet?\")\n",
    "print(\"A) Java\")\n",
    "print(\"B) Python\")\n",
    "print(\"C) C++\")\n",
    "print(\"D) Ruby\")\n",
    "\n",
    "# Benutzerantwort erfassen\n",
    "antwort = input(\"Bitte geben Sie Ihre Antwort (A, B, C oder D) ein: \")\n",
    "\n",
    "# Antwort prüfen\n",
    "if antwort.upper() == \"B\":\n",
    "    print(\"Richtig! Python wird hauptsächlich verwendet.\")\n",
    "else:\n",
    "    print(\"Falsch. Die richtige Antwort ist B) Python.\")"
   ]
  }
 ],
 "metadata": {
  "kernelspec": {
   "display_name": "Python 3",
   "language": "python",
   "name": "python3"
  },
  "language_info": {
   "codemirror_mode": {
    "name": "ipython",
    "version": 3
   },
   "file_extension": ".py",
   "mimetype": "text/x-python",
   "name": "python",
   "nbconvert_exporter": "python",
   "pygments_lexer": "ipython3",
   "version": "3.11.5"
  }
 },
 "nbformat": 4,
 "nbformat_minor": 2
}
