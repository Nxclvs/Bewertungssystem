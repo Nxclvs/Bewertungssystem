{
 "cells": [
  {
   "cell_type": "code",
   "execution_count": 2,
   "metadata": {},
   "outputs": [
    {
     "data": {
      "application/vnd.jupyter.widget-view+json": {
       "model_id": "0889d6781961492b9f559ec96633e501",
       "version_major": 2,
       "version_minor": 0
      },
      "text/plain": [
       "Label(value='Welche Programmiersprache(n) wird/werden hauptsächlich in Jupyter Notebooks verwendet?')"
      ]
     },
     "metadata": {},
     "output_type": "display_data"
    },
    {
     "data": {
      "application/vnd.jupyter.widget-view+json": {
       "model_id": "c86b426546ad4faebea4fccb687591d4",
       "version_major": 2,
       "version_minor": 0
      },
      "text/plain": [
       "Checkbox(value=False, description='Java')"
      ]
     },
     "metadata": {},
     "output_type": "display_data"
    },
    {
     "data": {
      "application/vnd.jupyter.widget-view+json": {
       "model_id": "e3b8e932e1084a3fa450a99a6d703b51",
       "version_major": 2,
       "version_minor": 0
      },
      "text/plain": [
       "Checkbox(value=False, description='Python')"
      ]
     },
     "metadata": {},
     "output_type": "display_data"
    },
    {
     "data": {
      "application/vnd.jupyter.widget-view+json": {
       "model_id": "a6e891e1452142ba8ac41e3a11f67607",
       "version_major": 2,
       "version_minor": 0
      },
      "text/plain": [
       "Checkbox(value=False, description='C++')"
      ]
     },
     "metadata": {},
     "output_type": "display_data"
    },
    {
     "data": {
      "application/vnd.jupyter.widget-view+json": {
       "model_id": "51b8c1137a5544f2b6e8b0b2b8dae989",
       "version_major": 2,
       "version_minor": 0
      },
      "text/plain": [
       "Checkbox(value=False, description='Ruby')"
      ]
     },
     "metadata": {},
     "output_type": "display_data"
    },
    {
     "data": {
      "application/vnd.jupyter.widget-view+json": {
       "model_id": "fe2ee58571a54055974abf4cb8269b3c",
       "version_major": 2,
       "version_minor": 0
      },
      "text/plain": [
       "Button(description='Antwort prüfen', style=ButtonStyle())"
      ]
     },
     "metadata": {},
     "output_type": "display_data"
    },
    {
     "data": {
      "application/vnd.jupyter.widget-view+json": {
       "model_id": "001a6b92f7e64480ac8234534ab9b348",
       "version_major": 2,
       "version_minor": 0
      },
      "text/plain": [
       "Output()"
      ]
     },
     "metadata": {},
     "output_type": "display_data"
    }
   ],
   "source": [
    "import ipywidgets as widgets\n",
    "from IPython.display import display\n",
    "\n",
    "# Frage und Auswahlmöglichkeiten\n",
    "frage = \"Welche Programmiersprache(n) wird/werden hauptsächlich in Jupyter Notebooks verwendet?\"\n",
    "antworten = [\"Java\", \"Python\", \"C++\", \"Ruby\"]\n",
    "\n",
    "# Checkboxen für die Auswahl erstellen\n",
    "checkboxes = [widgets.Checkbox(value=False, description=antwort) for antwort in antworten]\n",
    "\n",
    "button = widgets.Button(description=\"Antwort prüfen\")\n",
    "output = widgets.Output()\n",
    "\n",
    "# Funktion zur Überprüfung der Antwort\n",
    "def pruefen(b):\n",
    "    with output:\n",
    "        output.clear_output()\n",
    "        # Sammeln der ausgewählten Antworten\n",
    "        ausgewaehlte_antworten = [checkbox.description for checkbox in checkboxes if checkbox.value]\n",
    "        \n",
    "        # Richtige Antworten definieren\n",
    "        richtige_antworten = {\"Python\"}\n",
    "        \n",
    "        # Prüfen, ob die Auswahl korrekt ist\n",
    "        if set(ausgewaehlte_antworten) == richtige_antworten:\n",
    "            print(\"Richtig! Python wird hauptsächlich verwendet.\")\n",
    "        else:\n",
    "            print(f\"Falsch. Die richtige Antwort ist: {', '.join(richtige_antworten)}\")\n",
    "            print(f\"Ihre Auswahl war: {', '.join(ausgewaehlte_antworten) if ausgewaehlte_antworten else 'Keine Auswahl'}\")\n",
    "\n",
    "# Button mit Funktion verbinden\n",
    "button.on_click(pruefen)\n",
    "\n",
    "# Darstellung\n",
    "display(widgets.Label(value=frage))\n",
    "for checkbox in checkboxes:\n",
    "    display(checkbox)\n",
    "display(button, output)"
   ]
  },
  {
   "cell_type": "code",
   "execution_count": 1,
   "metadata": {},
   "outputs": [
    {
     "data": {
      "application/vnd.jupyter.widget-view+json": {
       "model_id": "dc37504588574efc8bc099cec3cde423",
       "version_major": 2,
       "version_minor": 0
      },
      "text/plain": [
       "Label(value='Welche Programmiersprache wird hauptsächlich in Jupyter Notebooks verwendet?')"
      ]
     },
     "metadata": {},
     "output_type": "display_data"
    },
    {
     "data": {
      "application/vnd.jupyter.widget-view+json": {
       "model_id": "1a6c432346624bc88643a8e5a4428780",
       "version_major": 2,
       "version_minor": 0
      },
      "text/plain": [
       "Dropdown(description='Antwort:', options=('Java', 'Python', 'C++', 'Ruby'), value='Java')"
      ]
     },
     "metadata": {},
     "output_type": "display_data"
    },
    {
     "data": {
      "application/vnd.jupyter.widget-view+json": {
       "model_id": "d13257b1c064471692e87264935c9d3a",
       "version_major": 2,
       "version_minor": 0
      },
      "text/plain": [
       "Button(description='Antwort prüfen', style=ButtonStyle())"
      ]
     },
     "metadata": {},
     "output_type": "display_data"
    },
    {
     "data": {
      "application/vnd.jupyter.widget-view+json": {
       "model_id": "9f280fe16da64e70b66ba5381aca6359",
       "version_major": 2,
       "version_minor": 0
      },
      "text/plain": [
       "Output()"
      ]
     },
     "metadata": {},
     "output_type": "display_data"
    }
   ],
   "source": [
    "import ipywidgets as widgets\n",
    "from IPython.display import display\n",
    "\n",
    "# Frage und Auswahlmöglichkeiten\n",
    "frage = \"Welche Programmiersprache wird hauptsächlich in Jupyter Notebooks verwendet?\"\n",
    "antworten = [\"Java\", \"Python\", \"C++\", \"Ruby\"]\n",
    "\n",
    "# Multiple-Choice-Widget erstellen\n",
    "dropdown = widgets.Dropdown(\n",
    "    options=antworten,\n",
    "    description='Antwort:',\n",
    ")\n",
    "\n",
    "button = widgets.Button(description=\"Antwort prüfen\")\n",
    "output = widgets.Output()\n",
    "\n",
    "# Funktion zur Überprüfung der Antwort\n",
    "def pruefen(b):\n",
    "    with output:\n",
    "        output.clear_output()\n",
    "        if dropdown.value == \"Python\":\n",
    "            print(\"Richtig! Python wird hauptsächlich verwendet.\")\n",
    "        else:\n",
    "            print(f\"Falsch. Die richtige Antwort ist Python. Ihre Antwort war: {dropdown.value}\")\n",
    "\n",
    "# Button mit Funktion verbinden\n",
    "button.on_click(pruefen)\n",
    "\n",
    "# Darstellung\n",
    "display(widgets.Label(value=frage))\n",
    "display(dropdown, button, output)"
   ]
  },
  {
   "cell_type": "code",
   "execution_count": 6,
   "metadata": {},
   "outputs": [
    {
     "name": "stdout",
     "output_type": "stream",
     "text": [
      "Welche Programmiersprache wird hauptsächlich in Jupyter Notebooks verwendet?\n",
      "A) Java\n",
      "B) Python\n",
      "C) C++\n",
      "D) Ruby\n",
      "Falsch. Die richtige Antwort ist B) Python.\n"
     ]
    }
   ],
   "source": [
    "# Frage und Auswahlmöglichkeiten\n",
    "print(\"Welche Programmiersprache wird hauptsächlich in Jupyter Notebooks verwendet?\")\n",
    "print(\"A) Java\")\n",
    "print(\"B) Python\")\n",
    "print(\"C) C++\")\n",
    "print(\"D) Ruby\")\n",
    "\n",
    "# Benutzerantwort erfassen\n",
    "antwort = input(\"Bitte geben Sie Ihre Antwort (A, B, C oder D) ein: \")\n",
    "\n",
    "# Antwort prüfen\n",
    "if antwort.upper() == \"B\":\n",
    "    print(\"Richtig! Python wird hauptsächlich verwendet.\")\n",
    "else:\n",
    "    print(\"Falsch. Die richtige Antwort ist B) Python.\")"
   ]
  }
 ],
 "metadata": {
  "kernelspec": {
   "display_name": "base",
   "language": "python",
   "name": "python3"
  },
  "language_info": {
   "codemirror_mode": {
    "name": "ipython",
    "version": 3
   },
   "file_extension": ".py",
   "mimetype": "text/x-python",
   "name": "python",
   "nbconvert_exporter": "python",
   "pygments_lexer": "ipython3",
   "version": "3.12.7"
  }
 },
 "nbformat": 4,
 "nbformat_minor": 2
}
